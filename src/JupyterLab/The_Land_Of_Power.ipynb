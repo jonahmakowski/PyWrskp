{
 "cells": [
  {
   "cell_type": "markdown",
   "id": "fedcdfdd-eb34-4bb9-8826-fd0a2e34df0d",
   "metadata": {},
   "source": [
    "# The Land Of Power\n",
    "This is a file for random stuff!\n",
    "\n",
    "## Var sender and reciver!\n",
    "This is a program so that I can figure out how to send vars from on program to the other\n",
    "\n",
    "### Saver/sender\n",
    "\n",
    "this sends the var to the other program"
   ]
  },
  {
   "cell_type": "code",
   "execution_count": 6,
   "id": "f1b30320-d974-44c1-8312-ae567e6cf32f",
   "metadata": {},
   "outputs": [
    {
     "name": "stdout",
     "output_type": "stream",
     "text": [
      "Sender!\n"
     ]
    },
    {
     "name": "stdin",
     "output_type": "stream",
     "text": [
      "What do you wish to send?\n",
      " testing var\n"
     ]
    },
    {
     "name": "stdout",
     "output_type": "stream",
     "text": [
      "done!\n"
     ]
    }
   ],
   "source": [
    "import json\n",
    "\n",
    "print('Sender!')\n",
    "\n",
    "var = input('What do you wish to send?\\n')\n",
    "\n",
    "save_dic = {'var':var}\n",
    "\n",
    "with open('../../docs/txt-files/temp_jupyter-lab_vars.txt', 'w') as outfile:\n",
    "    json.dump(save_dic, outfile)\n",
    "\n",
    "print('done!')"
   ]
  },
  {
   "cell_type": "markdown",
   "id": "ce3f0038-309c-4138-9caf-ecfb40718ca6",
   "metadata": {},
   "source": [
    "### Reader\n",
    "\n",
    "This takes the file from above, and tells you the var!"
   ]
  },
  {
   "cell_type": "code",
   "execution_count": 7,
   "id": "6426e439-93d2-419f-b9a2-4158980ac47a",
   "metadata": {},
   "outputs": [
    {
     "name": "stdout",
     "output_type": "stream",
     "text": [
      "reader\n",
      "var: testing var\n"
     ]
    }
   ],
   "source": [
    "import json\n",
    "\n",
    "print('reader')\n",
    "\n",
    "try:\n",
    "    with open('../../docs/txt-files/temp_jupyter-lab_vars.txt') as json_file:\n",
    "        dic = json.load(json_file)\n",
    "except FileNotFoundError:\n",
    "    print('There is no file, run the program above first!')\n",
    "\n",
    "for item in dic:\n",
    "    print('{}: {}'.format(item, dic[item]))"
   ]
  },
  {
   "cell_type": "code",
   "execution_count": null,
   "id": "bc16c59e-bfb1-4d32-b956-2fce556942d0",
   "metadata": {},
   "outputs": [],
   "source": []
  }
 ],
 "metadata": {
  "kernelspec": {
   "display_name": "Python 3 (ipykernel)",
   "language": "python",
   "name": "python3"
  },
  "language_info": {
   "codemirror_mode": {
    "name": "ipython",
    "version": 3
   },
   "file_extension": ".py",
   "mimetype": "text/x-python",
   "name": "python",
   "nbconvert_exporter": "python",
   "pygments_lexer": "ipython3",
   "version": "3.10.1"
  }
 },
 "nbformat": 4,
 "nbformat_minor": 5
}
