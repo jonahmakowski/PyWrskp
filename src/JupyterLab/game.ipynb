{
 "cells": [
  {
   "cell_type": "markdown",
   "id": "69fc4038-256e-4708-b24e-b0613fa9e741",
   "metadata": {},
   "source": [
    "### This Is My Game\n",
    "\n",
    "I thought it might be a little more intersting in the notebook."
   ]
  },
  {
   "cell_type": "code",
   "execution_count": 1,
   "id": "c57e0224-6229-4ea1-8a79-7ba8dedc0d47",
   "metadata": {},
   "outputs": [
    {
     "name": "stdout",
     "output_type": "stream",
     "text": [
      "Welcome To My Game!\n"
     ]
    },
    {
     "name": "stdin",
     "output_type": "stream",
     "text": [
      "What is your username, brave adventurer?\n",
      " WhiteSwine\n"
     ]
    },
    {
     "name": "stdout",
     "output_type": "stream",
     "text": [
      "\n",
      "\n",
      "Welcome to Alglia WhiteSwine!\n"
     ]
    },
    {
     "name": "stdin",
     "output_type": "stream",
     "text": [
      "What brings you here?\n",
      "the challange?\n",
      " asdijsajod\n"
     ]
    },
    {
     "name": "stdout",
     "output_type": "stream",
     "text": [
      "asdijsajod is not allowed\n"
     ]
    }
   ],
   "source": [
    "import time\n",
    "\n",
    "print('Welcome To My Game!')\n",
    "time.sleep(1)\n",
    "\n",
    "username = input('What is your username, brave adventurer?\\n')\n",
    "\n",
    "print('')\n",
    "print('')\n",
    "\n",
    "time.sleep(1)\n",
    "\n",
    "print('Welcome to Alglia {}!'.format(username))\n",
    "\n",
    "time.sleep(1)\n",
    "\n",
    "why = input('What brings you here?\\nthe challange?\\n')\n",
    "\n",
    "if why != 'the challenge' and why != 'yes':\n",
    "    print('{} is not allowed'.format(why))\n",
    "    print('code is terminated')\n",
    "    exit(4913901809481390841)\n",
    "    \n",
    "print('I knew it!')\n",
    "print()\n",
    "print('I will tell you what is happening, a group of monstors has come and have been attacking the village for months now, the poorer people are running out of food, we need help, fast')\n",
    "print('I think you might just be the help we need!')"
   ]
  },
  {
   "cell_type": "code",
   "execution_count": null,
   "id": "c15661ec-e3a6-4655-977e-7a6dbc28274e",
   "metadata": {},
   "outputs": [],
   "source": []
  }
 ],
 "metadata": {
  "kernelspec": {
   "display_name": "Python 3 (ipykernel)",
   "language": "python",
   "name": "python3"
  },
  "language_info": {
   "codemirror_mode": {
    "name": "ipython",
    "version": 3
   },
   "file_extension": ".py",
   "mimetype": "text/x-python",
   "name": "python",
   "nbconvert_exporter": "python",
   "pygments_lexer": "ipython3",
   "version": "3.10.1"
  }
 },
 "nbformat": 4,
 "nbformat_minor": 5
}
