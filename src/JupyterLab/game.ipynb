{
 "cells": [
  {
   "cell_type": "markdown",
   "id": "69fc4038-256e-4708-b24e-b0613fa9e741",
   "metadata": {},
   "source": [
    "### This Is My Game\n",
    "\n",
    "I thought it might be a little more intersting in the notebook."
   ]
  },
  {
   "cell_type": "code",
   "execution_count": 3,
   "id": "c57e0224-6229-4ea1-8a79-7ba8dedc0d47",
   "metadata": {},
   "outputs": [
    {
     "name": "stdout",
     "output_type": "stream",
     "text": [
      "Welcome To My Game!\n"
     ]
    },
    {
     "name": "stdin",
     "output_type": "stream",
     "text": [
      "Stranger: What is your username, brave adventurer?\n",
      " Jonah\n"
     ]
    },
    {
     "name": "stdout",
     "output_type": "stream",
     "text": [
      "\n",
      "\n",
      "Stranger: Welcome to Alglia Jonah!\n"
     ]
    },
    {
     "name": "stdin",
     "output_type": "stream",
     "text": [
      "Stranger: What brings you here?\n",
      "the challange?\n",
      " yes\n"
     ]
    },
    {
     "name": "stdout",
     "output_type": "stream",
     "text": [
      "Stranger: I knew it!\n",
      "\n",
      "Stranger: I will tell you what is happening, a group of monstors has come and have been attacking the village for months now, the poorer people are running out of food, we need help, fast\n",
      "Stranger: I think you might just be the help we need!\n",
      "Stranger: My name is Bob\n",
      "Bob: Come, you can sleep in my house tonight!\n",
      "Bob: WAKE UP!!!\n",
      "Bob: We need your help, there is a dhfai attacking us!\n",
      "Here is a sword...\n",
      "YOU GOT A SWORD!\n"
     ]
    }
   ],
   "source": [
    "import time\n",
    "\n",
    "print('Welcome To My Game!')\n",
    "time.sleep(1)\n",
    "\n",
    "username = input('Stranger: What is your username, brave adventurer?\\n')\n",
    "\n",
    "print('')\n",
    "print('')\n",
    "\n",
    "time.sleep(1)\n",
    "\n",
    "print('Stranger: Welcome to Alglia {}!'.format(username))\n",
    "\n",
    "time.sleep(1)\n",
    "\n",
    "why = input('Stranger: What brings you here?\\nthe challange?\\n')\n",
    "\n",
    "if why != 'the challenge' and why != 'yes':\n",
    "    print('{} is not allowed'.format(why))\n",
    "    print('code is terminated')\n",
    "    exit(4913901809481390841)\n",
    "    \n",
    "print('Stranger: I knew it!')\n",
    "print()\n",
    "print('Stranger: I will tell you what is happening, a group of monstors has come and have been attacking the village for months now, the poorer people are running out of food, we need help, fast')\n",
    "print('Stranger: I think you might just be the help we need!')\n",
    "print('Stranger: My name is Bob')\n",
    "print('Bob: Come, you can sleep in my house tonight!')\n",
    "time.sleep(2)\n",
    "\n",
    "\n",
    "print('Bob: WAKE UP!!!')\n",
    "time.sleep(0.5)\n",
    "print('Bob: We need your help, there is a dhfai attacking us!')\n",
    "print('Here is a sword...')\n",
    "\n",
    "print('YOU GOT A SWORD!')"
   ]
  },
  {
   "cell_type": "code",
   "execution_count": null,
   "id": "c15661ec-e3a6-4655-977e-7a6dbc28274e",
   "metadata": {},
   "outputs": [],
   "source": []
  }
 ],
 "metadata": {
  "kernelspec": {
   "display_name": "Python 3 (ipykernel)",
   "language": "python",
   "name": "python3"
  },
  "language_info": {
   "codemirror_mode": {
    "name": "ipython",
    "version": 3
   },
   "file_extension": ".py",
   "mimetype": "text/x-python",
   "name": "python",
   "nbconvert_exporter": "python",
   "pygments_lexer": "ipython3",
   "version": "3.10.1"
  }
 },
 "nbformat": 4,
 "nbformat_minor": 5
}
