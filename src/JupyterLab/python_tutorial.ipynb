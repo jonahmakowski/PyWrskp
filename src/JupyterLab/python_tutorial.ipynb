{
 "cells": [
  {
   "cell_type": "markdown",
   "id": "91382632-6639-4aa6-9cf3-7b061672ef34",
   "metadata": {},
   "source": [
    "# Python Tutorial\n",
    "I thought I might make this for the people I know who don't know how to code python!\n",
    "\n",
    "## Functions\n",
    "A function is a code that is written once, and can be called on many times\n",
    "\n",
    "A basic function looks somthing like this:"
   ]
  },
  {
   "cell_type": "code",
   "execution_count": 1,
   "id": "faaa9d0b-b4a9-4d8d-8557-73697445cc43",
   "metadata": {},
   "outputs": [],
   "source": [
    "def function_name(int1, int2):\n",
    "    a = int1 + int2\n",
    "    print(str(int1) + ' + ' + str(int2) + ' = ' + str(a))\n",
    "    return a"
   ]
  },
  {
   "cell_type": "markdown",
   "id": "a67b1da0-f877-4d00-b6fe-25ce7fe43e8d",
   "metadata": {},
   "source": [
    "But that program does not do anything, becuase I just created the function, I did not use it, here is an example where it is used:"
   ]
  },
  {
   "cell_type": "code",
   "execution_count": 3,
   "id": "8b9942bc-be87-45ce-b755-908a4694e802",
   "metadata": {},
   "outputs": [
    {
     "name": "stdin",
     "output_type": "stream",
     "text": [
      "What is the first number? 1\n",
      "What is the secound number? 1\n"
     ]
    },
    {
     "name": "stdout",
     "output_type": "stream",
     "text": [
      "1 + 1 = 2\n"
     ]
    }
   ],
   "source": [
    "def function_name(int1, int2):\n",
    "    a = int1 + int2\n",
    "    print(str(int1) + ' + ' + str(int2) + ' = ' + str(a))\n",
    "    return a\n",
    "\n",
    "num1 = int(input('What is the first number?'))\n",
    "num2 = int(input('What is the secound number?'))\n",
    "\n",
    "a = function_name(num1, num2)"
   ]
  },
  {
   "cell_type": "markdown",
   "id": "f764f380-4aba-469e-ad0b-e1b11dc1e45e",
   "metadata": {},
   "source": [
    "Now you know how to make a basic function!\n",
    "\n",
    "## Classes\n",
    "Classes are like the parents of Functions, a class can have many functions within it.\n",
    "\n",
    "Here is an example of a class:"
   ]
  },
  {
   "cell_type": "code",
   "execution_count": 4,
   "id": "5cf67bf9-ecf2-488d-af24-3f3fd72af4b3",
   "metadata": {},
   "outputs": [],
   "source": [
    "class class_name:\n",
    "    def __init__(self, num1, num2, opration): # this is the function that is called when you first created the class, more about this later\n",
    "        self.num1 = num1\n",
    "        self.num2 = num2\n",
    "        \n",
    "        if opration == '+':\n",
    "            self.add()\n",
    "        elif opration == '-':\n",
    "            self.sub()\n",
    "        elif opration == '/':\n",
    "            self.dev()\n",
    "        elif opration == '*':\n",
    "            self.multi()\n",
    "        else:\n",
    "            print('That is not an opration!')\n",
    "    \n",
    "    def add(self):\n",
    "        a = self.num1 + self.num2\n",
    "        print(str(num1) + ' + ' + str(num2) + ' = ' + str(a))\n",
    "    \n",
    "    def sub(self):\n",
    "        a = self.num1 - self.num2\n",
    "        print(str(num1) + ' - ' + str(num2) + ' = ' + str(a))\n",
    "        \n",
    "    def dev(self):\n",
    "        a = self.num1 / self.num2\n",
    "        print(str(num1) + ' / ' + str(num2) + ' = ' + str(a))\n",
    "    \n",
    "    def multi(self):\n",
    "        a = self.num1 * self.num2\n",
    "        print(str(num1) + ' * ' + str(num2) + ' = ' + str(a))\n",
    "    \n",
    "    def add_and_subtract_4(self):\n",
    "        a = (self.num1 + self.num2) - 4\n",
    "        print('(' + str(num1) + ' + ' + str(num2) + ')' + ' - 4 = ' + str(a))"
   ]
  },
  {
   "cell_type": "markdown",
   "id": "2b2ccb85-788c-43f4-8a3a-142f0d51582b",
   "metadata": {},
   "source": [
    "Again, this program does nothing, becasuse I am not calling on the class, here is an example of the class at work:"
   ]
  },
  {
   "cell_type": "code",
   "execution_count": 6,
   "id": "8c002a60-0d59-465c-80e7-e8a7e6f5e41a",
   "metadata": {},
   "outputs": [
    {
     "name": "stdout",
     "output_type": "stream",
     "text": [
      "__init__:\n",
      "1 + 1 = 9\n",
      "add_and_subtract_4\n",
      "(1 + 1) - 4 = 5\n"
     ]
    }
   ],
   "source": [
    "class class_name: # class\n",
    "    def __init__(self, num1, num2, opration): # this is the method that is called when you first created the class\n",
    "        self.num1 = num1\n",
    "        self.num2 = num2\n",
    "        \n",
    "        if opration == '+':\n",
    "            self.add()\n",
    "        elif opration == '-':\n",
    "            self.sub()\n",
    "        elif opration == '/':\n",
    "            self.dev()\n",
    "        elif opration == '*':\n",
    "            self.multi()\n",
    "        else:\n",
    "            print('That is not an opration!')\n",
    "    \n",
    "    def add(self): # method\n",
    "        a = self.num1 + self.num2\n",
    "        print(str(num1) + ' + ' + str(num2) + ' = ' + str(a))\n",
    "    \n",
    "    def sub(self): # method\n",
    "        a = self.num1 - self.num2\n",
    "        print(str(num1) + ' - ' + str(num2) + ' = ' + str(a))\n",
    "        \n",
    "    def dev(self): # method\n",
    "        a = self.num1 / self.num2\n",
    "        print(str(num1) + ' / ' + str(num2) + ' = ' + str(a))\n",
    "    \n",
    "    def multi(self): # method\n",
    "        a = self.num1 * self.num2\n",
    "        print(str(num1) + ' * ' + str(num2) + ' = ' + str(a))\n",
    "    \n",
    "    def add_and_subtract_4(self): # method\n",
    "        a = (self.num1 + self.num2) - 4\n",
    "        print('(' + str(num1) + ' + ' + str(num2) + ')' + ' - 4 = ' + str(a))\n",
    "\n",
    "\n",
    "print('__init__:')\n",
    "class_var = class_name(num1=4, num2=5, opration='+') # this will execute the __init__ method, and becuase the opration is + than it will also call the method add()\n",
    "\n",
    "print('add_and_subtract_4')\n",
    "class_var.add_and_subtract_4() # this is how you call a method from outside the class!"
   ]
  },
  {
   "cell_type": "code",
   "execution_count": null,
   "id": "5de84233-a128-45fe-8d6d-e0feb840733c",
   "metadata": {},
   "outputs": [],
   "source": []
  }
 ],
 "metadata": {
  "kernelspec": {
   "display_name": "Python 3 (ipykernel)",
   "language": "python",
   "name": "python3"
  },
  "language_info": {
   "codemirror_mode": {
    "name": "ipython",
    "version": 3
   },
   "file_extension": ".py",
   "mimetype": "text/x-python",
   "name": "python",
   "nbconvert_exporter": "python",
   "pygments_lexer": "ipython3",
   "version": "3.10.1"
  }
 },
 "nbformat": 4,
 "nbformat_minor": 5
}
