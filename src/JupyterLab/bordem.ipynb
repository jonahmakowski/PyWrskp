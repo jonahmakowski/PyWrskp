{
 "cells": [
  {
   "cell_type": "markdown",
   "id": "ccef0333-b4bd-41dd-943f-0db56bff3b2d",
   "metadata": {},
   "source": [
    "# Bordem\n",
    "\n",
    "I am very bored, so I am going to setup this notbook with many programs I have made when I am bored"
   ]
  },
  {
   "cell_type": "markdown",
   "id": "7425f4ed-5f39-4e27-b781-fef95fa15878",
   "metadata": {},
   "source": [
    "## Security Factor of BORDEM"
   ]
  },
  {
   "cell_type": "code",
   "execution_count": null,
   "id": "a748da82-54a4-4bef-8af5-e8e9f22604b1",
   "metadata": {},
   "outputs": [],
   "source": [
    "import time\n",
    "import random\n",
    "\n",
    "class Security:\n",
    "    def __init__(self):\n",
    "        self.attempts = []\n",
    "        self.username = None\n",
    "        self.password = None\n",
    "    \n",
    "    def get_info(self, username, password):\n",
    "        self.username = username\n",
    "        self.password = password\n",
    "        self.attempts.append('get_info')\n",
    "    \n",
    "    def test(self, item, error):\n",
    "        temp = False\n",
    "        for item in self.attempts:\n",
    "            if item == item:\n",
    "                temp = True\n",
    "        if temp != True:\n",
    "            for i in range(50):\n",
    "                print('ERROR, {}'.format(error))\n",
    "            return('error')\n",
    "        else:\n",
    "            return('accepted')\n",
    "    \n",
    "    def login(self):\n",
    "        if self.test('get_info', 'attempted login failed, no info detected!') == 'error':\n",
    "            exit()\n",
    "        else:\n",
    "            print('authenticating username and password')\n",
    "            time.sleep(random.randint(1,5))\n",
    "            if self.username == 'WhiteSwine' and self.password == 'bored':\n",
    "                print('authanticated')\n",
    "                self.attempts.append('login')\n",
    "                return\n",
    "    \n",
    "    def \n",
    "            \n",
    "s = Security()\n",
    "s.get_info(input('What is your username? \\n'), input('What is your password? \\n'))\n",
    "s.login()"
   ]
  },
  {
   "cell_type": "code",
   "execution_count": null,
   "id": "0bef7406-579e-47b5-a9e4-2f531efbf176",
   "metadata": {},
   "outputs": [],
   "source": []
  }
 ],
 "metadata": {
  "kernelspec": {
   "display_name": "Python 3 (ipykernel)",
   "language": "python",
   "name": "python3"
  },
  "language_info": {
   "codemirror_mode": {
    "name": "ipython",
    "version": 3
   },
   "file_extension": ".py",
   "mimetype": "text/x-python",
   "name": "python",
   "nbconvert_exporter": "python",
   "pygments_lexer": "ipython3",
   "version": "3.10.1"
  }
 },
 "nbformat": 4,
 "nbformat_minor": 5
}
